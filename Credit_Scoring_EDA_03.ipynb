{
  "nbformat": 4,
  "nbformat_minor": 0,
  "metadata": {
    "colab": {
      "private_outputs": true,
      "provenance": []
    },
    "kernelspec": {
      "name": "python3",
      "display_name": "Python 3"
    },
    "language_info": {
      "name": "python"
    }
  },
  "cells": [
    {
      "cell_type": "markdown",
      "source": [
        "#Credit Scoring"
      ],
      "metadata": {
        "id": "gJaYoGFqy2NY"
      }
    },
    {
      "cell_type": "markdown",
      "source": [],
      "metadata": {
        "id": "1ayjAsJQi5MN"
      }
    },
    {
      "cell_type": "markdown",
      "source": [
        "#Preparação"
      ],
      "metadata": {
        "id": "dMG9uxkvw73A"
      }
    },
    {
      "cell_type": "markdown",
      "source": [
        "###Bibliotecas usadas"
      ],
      "metadata": {
        "id": "IhcOf8pQY1ed"
      }
    },
    {
      "cell_type": "code",
      "source": [
        "import pandas as pd\n",
        "import numpy as np\n",
        "import seaborn as sns\n",
        "import matplotlib.pyplot as plt\n",
        "from sklearn.linear_model import LogisticRegression\n",
        "from sklearn.model_selection import train_test_split, cross_val_score, GridSearchCV\n",
        "from sklearn.metrics import accuracy_score, confusion_matrix, classification_report, roc_curve, auc\n",
        "from sklearn.metrics import roc_auc_score\n",
        "from scipy.stats import ks_2samp\n"
      ],
      "metadata": {
        "id": "fIZgrkzM4Js6"
      },
      "execution_count": null,
      "outputs": []
    },
    {
      "cell_type": "markdown",
      "source": [
        "###Funções KS e GINI"
      ],
      "metadata": {
        "id": "aUu68BTQYrAE"
      }
    },
    {
      "cell_type": "code",
      "source": [
        "def calcular_ks(y_true, y_pred):\n",
        "    \"\"\"\n",
        "    Calcula a estatística KS (Kolmogorov-Smirnov).\n",
        "\n",
        "    Args:\n",
        "        y_true: Array numpy ou lista contendo os valores reais (0 ou 1).\n",
        "        y_pred: Array numpy ou lista contendo as probabilidades previstas (entre 0 e 1).\n",
        "\n",
        "    Returns:\n",
        "        O valor da estatística KS.\n",
        "    \"\"\"\n",
        "    data = pd.DataFrame({'y_true': y_true, 'y_pred': y_pred})\n",
        "    data_bom = data[data['y_true'] == 0]['y_pred']\n",
        "    data_mau = data[data['y_true'] == 1]['y_pred']\n",
        "    ks = ks_2samp(data_bom, data_mau).statistic\n",
        "    return ks"
      ],
      "metadata": {
        "id": "eQIEuMaPHg77"
      },
      "execution_count": null,
      "outputs": []
    },
    {
      "cell_type": "code",
      "source": [
        "def calcular_gini(y_true, y_pred):\n",
        "    \"\"\"\n",
        "    Calcula o GINI a partir das previsões e valores reais.\n",
        "\n",
        "    Args:\n",
        "        y_true: Array numpy ou lista contendo os valores reais (0 ou 1).\n",
        "        y_pred: Array numpy ou lista contendo as probabilidades previstas (entre 0 e 1).\n",
        "\n",
        "    Returns:\n",
        "        O valor do GINI.\n",
        "    \"\"\"\n",
        "    auc = roc_auc_score(y_true, y_pred)\n",
        "    gini = 2 * auc - 1\n",
        "    return gini"
      ],
      "metadata": {
        "id": "NB7RCDgqHiFa"
      },
      "execution_count": null,
      "outputs": []
    },
    {
      "cell_type": "markdown",
      "source": [
        "###Função para reencher valores ausentes (NaN) em uma coluna do DataFrame."
      ],
      "metadata": {
        "id": "uXLV9Idkp925"
      }
    },
    {
      "cell_type": "code",
      "source": [
        "def fill_missing_values(df, column, filler_values):\n",
        "    \"\"\"\n",
        "    A função fill_missing_values preenche valores ausentes (NaN)\n",
        "    em uma coluna de um DataFrame com uma lista de valores de preenchimento,\n",
        "    distribuindo esses valores uniformemente até preencher todos os NaNs\n",
        "    ou esgotar a lista de valores de preenchimento,\n",
        "    e imprime o número de NaNs restantes após o preenchimento.\n",
        "\n",
        "    Args:\n",
        "        df (pandas.DataFrame): O DataFrame a ser modificado.\n",
        "        column (str): O nome da coluna a ser preenchida.\n",
        "        filler_values (list): Uma lista de valores para preencher os NaNs.\n",
        "    \"\"\"\n",
        "    nan_count = df[column].isnull().sum()\n",
        "\n",
        "    if nan_count > 0:\n",
        "        for i, filler in enumerate(filler_values):\n",
        "            limit = int(nan_count // len(filler_values)) if i < len(filler_values) - 1 else None\n",
        "            df[column].fillna(filler, limit=limit, inplace=True)\n",
        "\n",
        "    print(f\"Valores NaN restantes na coluna '{column}': {df[column].isnull().sum()}\")"
      ],
      "metadata": {
        "id": "LIyEVtHCoxDp"
      },
      "execution_count": null,
      "outputs": []
    },
    {
      "cell_type": "markdown",
      "source": [
        "###Importação dos dados"
      ],
      "metadata": {
        "id": "DIgUHylIY7Lc"
      }
    },
    {
      "cell_type": "code",
      "source": [
        "df = pd.read_csv('/content/drive/MyDrive/DATA_VIKING/credit_risk.csv')"
      ],
      "metadata": {
        "id": "6Il1V1J94Q4Y"
      },
      "execution_count": null,
      "outputs": []
    },
    {
      "cell_type": "code",
      "source": [
        "df.head()"
      ],
      "metadata": {
        "id": "0jDt9tMawohm"
      },
      "execution_count": null,
      "outputs": []
    },
    {
      "cell_type": "markdown",
      "source": [
        "###Tratamento dos dados"
      ],
      "metadata": {
        "id": "hBLOWvfpkoaA"
      }
    },
    {
      "cell_type": "code",
      "source": [
        "df.info()"
      ],
      "metadata": {
        "id": "bcBRWbo_lKC-"
      },
      "execution_count": null,
      "outputs": []
    },
    {
      "cell_type": "code",
      "source": [
        "# Tratando valores nulos (NaN)\n",
        "# Substituindo valores NaN na coluna 'saving_accounts', pela variável 'little'\n",
        "df['saving_accounts'].fillna('little', inplace=True)\n",
        "\n",
        "# Substituindo valores NaN na coluna 'checking_account', dividindo entre 'little' e 'moderate'\n",
        "fill_missing_values(df, 'checking_account', ['little', 'moderate'])"
      ],
      "metadata": {
        "id": "NoPhZ8f3odDi"
      },
      "execution_count": null,
      "outputs": []
    },
    {
      "cell_type": "code",
      "source": [
        "# Substituindo na coluna 'risk'...{'good': 1, 'bad': 0}\n",
        "df['risk'] = df['risk'].map({'good': 1, 'bad': 0})\n",
        "\n",
        "# Substituindo na coluna 'sex'...{'male': 1, 'female': 0}\n",
        "df['sex'] = df['sex'].map({'male': 1, 'female': 0})"
      ],
      "metadata": {
        "id": "WK0mE7IsuvQN"
      },
      "execution_count": null,
      "outputs": []
    },
    {
      "cell_type": "code",
      "source": [
        "# Criando as colunas 'month' e 'year', recebendo as respectivas informações da coluna 'reference'\n",
        "df['month'] = df['reference'].str.split('-').str[1]\n",
        "df['year'] = df['reference'].str.split('-').str[0]\n",
        "\n",
        "#Transformando as colunas separadas ('month' e 'year') para o tipo inteiro\n",
        "\n",
        "df['month'] = df['month'].astype(int)\n",
        "df['year'] = df['year'].astype(int)"
      ],
      "metadata": {
        "id": "9KvVIv8jr5G-"
      },
      "execution_count": null,
      "outputs": []
    },
    {
      "cell_type": "code",
      "source": [
        "# Removendo a colunas do DataFrame.\n",
        "df = df.drop(columns=['Unnamed: 0', 'cpf', 'income', 'reference'])"
      ],
      "metadata": {
        "id": "iwdoP6YVn4pF"
      },
      "execution_count": null,
      "outputs": []
    },
    {
      "cell_type": "code",
      "source": [
        "categorical_columns = df.select_dtypes(include=['object']).columns\n",
        "categorical_columns"
      ],
      "metadata": {
        "id": "0t5ulS_pkrd2"
      },
      "execution_count": null,
      "outputs": []
    },
    {
      "cell_type": "code",
      "source": [
        "for columns in categorical_columns:\n",
        "  df = pd.get_dummies(df, columns=[columns], drop_first=True, dtype=int)"
      ],
      "metadata": {
        "id": "Ni5jM9hxlrpv"
      },
      "execution_count": null,
      "outputs": []
    },
    {
      "cell_type": "code",
      "source": [
        "df.head()"
      ],
      "metadata": {
        "id": "EilIz7ZZmwPi"
      },
      "execution_count": null,
      "outputs": []
    },
    {
      "cell_type": "markdown",
      "source": [
        "###Separando coluna Target do resto do DataFrame"
      ],
      "metadata": {
        "id": "bOLU09Q4ZTGo"
      }
    },
    {
      "cell_type": "code",
      "source": [
        "df_x = df.drop(columns=['risk'])\n",
        "df_y = df['risk']"
      ],
      "metadata": {
        "id": "cI77arUM4UgB"
      },
      "execution_count": null,
      "outputs": []
    },
    {
      "cell_type": "markdown",
      "source": [
        "#Modelo I"
      ],
      "metadata": {
        "id": "o1rGT3bBlHKe"
      }
    },
    {
      "cell_type": "code",
      "source": [
        "# Dividindo em treino e teste\n",
        "X_train, X_test, y_train, y_test = train_test_split(df_x, df_y, test_size=0.2, random_state=42)\n",
        "\n",
        "# Criando e treinando o modelo\n",
        "model = LogisticRegression()\n",
        "model.fit(X_train, y_train)"
      ],
      "metadata": {
        "id": "758w6PC44jLz"
      },
      "execution_count": null,
      "outputs": []
    },
    {
      "cell_type": "code",
      "source": [
        "# Avaliação do modelo:\n",
        "# Fazendo previsões no conjunto de teste\n",
        "y_pred = model.predict(X_test)\n",
        "y_pred_proba = model.predict_proba(X_test)  # Probabilidades das previsões\n",
        "y_pred_proba_1 = model.predict_proba(X_test)[:, 1]  # Probabilidades da classe 1"
      ],
      "metadata": {
        "id": "XJ67N_BQ5L3H"
      },
      "execution_count": null,
      "outputs": []
    },
    {
      "cell_type": "code",
      "source": [
        "# Métricas básicas\n",
        "print(\"Acurácia:\", accuracy_score(y_test, y_pred))\n",
        "print(\"\\nRelatório de Classificação:\")\n",
        "print(classification_report(y_test, y_pred))\n",
        "print(\"\\nMatriz de Confusão:\")\n",
        "print(confusion_matrix(y_test, y_pred))"
      ],
      "metadata": {
        "id": "uBHdjaFj5dFC"
      },
      "execution_count": null,
      "outputs": []
    },
    {
      "cell_type": "code",
      "source": [
        "# Cálculo das Métricas KS e GINI\n",
        "ks = calcular_ks(y_test, y_pred_proba_1)\n",
        "gini = calcular_gini(y_test, y_pred_proba_1)"
      ],
      "metadata": {
        "id": "qZpI2cXeO_1r"
      },
      "execution_count": null,
      "outputs": []
    },
    {
      "cell_type": "code",
      "source": [
        "print(ks)\n",
        "print(gini)"
      ],
      "metadata": {
        "id": "ECIbg1FpRiJg"
      },
      "execution_count": null,
      "outputs": []
    },
    {
      "cell_type": "code",
      "source": [
        "# Calculando a curva ROC\n",
        "fpr, tpr, thresholds = roc_curve(y_test, y_pred_proba[:, 1])\n",
        "roc_auc = auc(fpr, tpr)\n",
        "\n",
        "# Plotando a curva\n",
        "plt.figure()\n",
        "plt.plot(fpr, tpr, color='darkorange', lw=2, label='ROC curve (area = %0.2f)' % roc_auc)\n",
        "plt.plot([0, 1], [0, 1], color='navy', linestyle='--')\n",
        "plt.xlim([0.0, 1.0])\n",
        "plt.ylim([0.0, 1.05])\n",
        "plt.xlabel('Taxa de Falsos Positivos')\n",
        "plt.ylabel('Taxa de Verdadeiros Positivos')\n",
        "plt.title('Curva ROC')\n",
        "plt.show()"
      ],
      "metadata": {
        "id": "OLHHiZsdwfg6"
      },
      "execution_count": null,
      "outputs": []
    },
    {
      "cell_type": "code",
      "source": [
        "# Visualizando os coeficientes\n",
        "coef_df = pd.DataFrame({\n",
        "    'Feature': df_x.columns,\n",
        "    'Coefficient': model.coef_[0]\n",
        "})\n",
        "coef_df = coef_df.sort_values('Coefficient', ascending=False)\n",
        "print(\"Coeficientes do modelo:\")\n",
        "print(coef_df)"
      ],
      "metadata": {
        "id": "de73Yvjz7gdE"
      },
      "execution_count": null,
      "outputs": []
    },
    {
      "cell_type": "code",
      "source": [
        "# Realizando validação cruzada\n",
        "cv_scores = cross_val_score(model, df_x, df_y, cv=5)\n",
        "print(\"Scores da validação cruzada:\", cv_scores)\n",
        "print(\"Média da validação cruzada:\", cv_scores.mean())"
      ],
      "metadata": {
        "id": "Up1va6qz72bN"
      },
      "execution_count": null,
      "outputs": []
    },
    {
      "cell_type": "code",
      "source": [
        "# Definindo parâmetros para teste\n",
        "param_grid = {\n",
        "    'C': [0.001, 0.01, 0.1, 1, 10, 100],\n",
        "    'penalty': ['l1', 'l2'],\n",
        "    'solver': ['liblinear', 'saga']\n",
        "}\n",
        "\n",
        "# Realizando busca em grade\n",
        "grid_search = GridSearchCV(LogisticRegression(), param_grid, cv=5)\n",
        "grid_search.fit(X_train, y_train)\n",
        "\n",
        "print(\"Melhores parâmetros:\", grid_search.best_params_)\n",
        "print(\"Melhor score:\", grid_search.best_score_)"
      ],
      "metadata": {
        "id": "HQInURTq8jRC"
      },
      "execution_count": null,
      "outputs": []
    },
    {
      "cell_type": "markdown",
      "source": [
        "###Tratamento de desbalanceamento"
      ],
      "metadata": {
        "id": "1AK2cpFrs0Xj"
      }
    },
    {
      "cell_type": "code",
      "source": [
        "from imblearn.over_sampling import SMOTE\n",
        "from imblearn.under_sampling import RandomUnderSampler\n",
        "from imblearn.pipeline import Pipeline"
      ],
      "metadata": {
        "id": "N_q5HgELs4CH"
      },
      "execution_count": null,
      "outputs": []
    },
    {
      "cell_type": "code",
      "source": [
        "# Criar pipeline de balanceamento\n",
        "balancing_pipeline = Pipeline([\n",
        "    ('smote', SMOTE(random_state=42)),\n",
        "    ('undersampling', RandomUnderSampler(random_state=42))\n",
        "])\n",
        "\n",
        "# Aplicar balanceamento\n",
        "X_train_balanced, y_train_balanced = balancing_pipeline.fit_resample(X_train, y_train)"
      ],
      "metadata": {
        "id": "Ocv0RPM9tAOB"
      },
      "execution_count": null,
      "outputs": []
    },
    {
      "cell_type": "markdown",
      "source": [
        "###Feature engineering"
      ],
      "metadata": {
        "id": "wXsQOnEytm0Z"
      }
    },
    {
      "cell_type": "code",
      "source": [
        "df.info()"
      ],
      "metadata": {
        "id": "f1dJgTBrt_9h"
      },
      "execution_count": null,
      "outputs": []
    },
    {
      "cell_type": "code",
      "source": [
        "from sklearn.preprocessing import StandardScaler, PolynomialFeatures\n",
        "\n",
        "# Criar novas features\n",
        "scaler = StandardScaler()\n",
        "poly = PolynomialFeatures(degree=2, include_bias=False)"
      ],
      "metadata": {
        "id": "svfucOuWtvQ5"
      },
      "execution_count": null,
      "outputs": []
    },
    {
      "cell_type": "code",
      "source": [
        "# Pipeline com feature engineering\n",
        "from sklearn.pipeline import Pipeline\n",
        "from sklearn.compose import ColumnTransformer\n",
        "\n",
        "# Assumindo que algumas colunas são numéricas e outras categóricas\n",
        "numeric_features = numeric_features = df.columns.tolist()\n",
        "\n",
        "preprocessor = ColumnTransformer(\n",
        "    transformers=[\n",
        "        (StandardScaler(), numeric_features),\n",
        "        ])"
      ],
      "metadata": {
        "id": "-V8AXLpit1kA"
      },
      "execution_count": null,
      "outputs": []
    },
    {
      "cell_type": "markdown",
      "source": [
        "###Otimização de hiperparametros"
      ],
      "metadata": {
        "id": "FcGRwUbhvFI6"
      }
    },
    {
      "cell_type": "code",
      "source": [
        "param_grid = {\n",
        "    'C': [0.001, 0.01, 0.1, 1, 10, 100],\n",
        "    'class_weight': ['balanced', None],\n",
        "    'solver': ['liblinear', 'saga'],\n",
        "    'penalty': ['l1', 'l2']\n",
        "}"
      ],
      "metadata": {
        "id": "NeqoKwczvOyI"
      },
      "execution_count": null,
      "outputs": []
    },
    {
      "cell_type": "code",
      "source": [
        "# Criar pipeline completo\n",
        "model_pipeline = Pipeline([\n",
        "    ('preprocessor', preprocessor),\n",
        "    ('classifier', LogisticRegression())\n",
        "])\n",
        "\n",
        "# Grid Search com validação cruzada\n",
        "grid_search = GridSearchCV(\n",
        "    model_pipeline,\n",
        "    param_grid,\n",
        "    cv=5,\n",
        "    scoring=['accuracy', 'f1', 'roc_auc'],\n",
        "    refit='roc_auc'\n",
        ")"
      ],
      "metadata": {
        "id": "Z8lOIR7svVps"
      },
      "execution_count": null,
      "outputs": []
    },
    {
      "cell_type": "markdown",
      "source": [
        "###Validação com K-fold"
      ],
      "metadata": {
        "id": "eEr3m1mwvyzC"
      }
    },
    {
      "cell_type": "code",
      "source": [
        "from sklearn.model_selection import KFold"
      ],
      "metadata": {
        "id": "kDPcpgcGv4h1"
      },
      "execution_count": null,
      "outputs": []
    },
    {
      "cell_type": "code",
      "source": [
        "kf = KFold(n_splits=5, shuffle=True, random_state=42)"
      ],
      "metadata": {
        "id": "btzALDnQv9NO"
      },
      "execution_count": null,
      "outputs": []
    },
    {
      "cell_type": "markdown",
      "source": [
        "###Métricas para Credit Scoring"
      ],
      "metadata": {
        "id": "TwujWNYtwJC2"
      }
    },
    {
      "cell_type": "code",
      "source": [
        "def evaluate_credit_model(y_true, y_pred, y_pred_proba):\n",
        "    ks = calcular_ks(y_true, y_pred_proba)\n",
        "    gini = calcular_gini(y_true, y_pred_proba)\n",
        "\n",
        "    print(f\"KS Score: {ks:.4f}\")\n",
        "    print(f\"Gini Index: {gini:.4f}\")\n",
        "    print(\"\\nClassification Report:\")\n",
        "    print(classification_report(y_true, y_pred))\n",
        "\n",
        "    # Plotar curva ROC\n",
        "    plot_roc_curve(y_true, y_pred_proba)"
      ],
      "metadata": {
        "id": "UcmAO58TwIAr"
      },
      "execution_count": null,
      "outputs": []
    },
    {
      "cell_type": "markdown",
      "source": [
        "#Modelo II"
      ],
      "metadata": {
        "id": "nA62i6daGvmz"
      }
    },
    {
      "cell_type": "code",
      "source": [
        "# Usar class_weight='balanced'\n",
        "model = LogisticRegression(class_weight='balanced')"
      ],
      "metadata": {
        "id": "qjpPR9zaHjGq"
      },
      "execution_count": null,
      "outputs": []
    },
    {
      "cell_type": "code",
      "source": [
        "# Dividindo em treino e teste\n",
        "X_train, X_test, y_train, y_test = train_test_split(X_train_balanced, y_train_balanced, test_size=0.2, random_state=42)\n",
        "\n",
        "# Criando e treinando o modelo\n",
        "model = LogisticRegression()\n",
        "model.fit(X_train, y_train)"
      ],
      "metadata": {
        "id": "V9TsVuV2H0l3"
      },
      "execution_count": null,
      "outputs": []
    },
    {
      "cell_type": "code",
      "source": [
        "# Avaliação do modelo:\n",
        "# Fazendo previsões no conjunto de teste\n",
        "y_pred = model.predict(X_test)\n",
        "y_pred_proba = model.predict_proba(X_test)[:, 1]  # Probabilidades da classe 1"
      ],
      "metadata": {
        "id": "q2Iz1T6-H0iX"
      },
      "execution_count": null,
      "outputs": []
    },
    {
      "cell_type": "code",
      "source": [
        "from sklearn.metrics import accuracy_score, precision_score, recall_score, f1_score, roc_auc_score"
      ],
      "metadata": {
        "id": "EWh0jxxBzHdq"
      },
      "execution_count": null,
      "outputs": []
    },
    {
      "cell_type": "code",
      "source": [
        "# Métricas básicas\n",
        "print(\"accuracy_score:\", accuracy_score(y_test, y_pred))\n",
        "print(\"precision_score: \", precision_score(y_test, y_pred))\n",
        "print(\"recall_score: \", recall_score(y_test, y_pred))\n",
        "print(\"f1_score: \", f1_score(y_test, y_pred))\n",
        "print(\"roc_auc_score: \", roc_auc_score(y_test, y_pred_proba))"
      ],
      "metadata": {
        "id": "zIUSxDXrH0fN"
      },
      "execution_count": null,
      "outputs": []
    },
    {
      "cell_type": "code",
      "source": [
        "print(\"confusion_matrix:\\n\", confusion_matrix(y_test, y_pred))"
      ],
      "metadata": {
        "id": "shykx46SyRvz"
      },
      "execution_count": null,
      "outputs": []
    },
    {
      "cell_type": "code",
      "source": [
        "# Cálculo das Métricas KS e GINI\n",
        "ks = calcular_ks(y_test, y_pred_proba)\n",
        "gini = calcular_gini(y_test, y_pred_proba)\n",
        "\n",
        "print(ks)\n",
        "print(gini)"
      ],
      "metadata": {
        "id": "_KfktXVQIyql"
      },
      "execution_count": null,
      "outputs": []
    }
  ]
}